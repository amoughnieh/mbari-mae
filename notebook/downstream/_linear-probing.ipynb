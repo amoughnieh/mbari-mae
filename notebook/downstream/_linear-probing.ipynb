{
 "cells": [
  {
   "metadata": {
    "ExecuteTime": {
     "end_time": "2025-07-09T12:07:37.740792Z",
     "start_time": "2025-07-09T12:07:37.734482Z"
    }
   },
   "cell_type": "code",
   "source": [
    "import os\n",
    "\n",
    "os.chdir(\"../..\")\n",
    "print(os.getcwd())"
   ],
   "outputs": [
    {
     "name": "stdout",
     "output_type": "stream",
     "text": [
      "C:\\Users\\Ali\\OneDrive - Georgia Institute of Technology\\25-5 Summer\\CS 7643 - Deep Learning\\_Project\\mbari-mae\n"
     ]
    }
   ],
   "execution_count": 1
  },
  {
   "metadata": {
    "ExecuteTime": {
     "end_time": "2025-07-09T12:07:44.366564Z",
     "start_time": "2025-07-09T12:07:37.912267Z"
    }
   },
   "cell_type": "code",
   "source": "from scripts.ft_lp import *",
   "outputs": [
    {
     "name": "stderr",
     "output_type": "stream",
     "text": [
      "C:\\Users\\Ali\\miniconda3\\envs\\new25\\Lib\\site-packages\\tqdm\\auto.py:21: TqdmWarning: IProgress not found. Please update jupyter and ipywidgets. See https://ipywidgets.readthedocs.io/en/stable/user_install.html\n",
      "  from .autonotebook import tqdm as notebook_tqdm\n",
      "C:\\Users\\Ali\\miniconda3\\envs\\new25\\Lib\\site-packages\\s3prl\\upstream\\byol_s\\byol_a\\common.py:20: UserWarning: torchaudio._backend.set_audio_backend has been deprecated. With dispatcher enabled, this function is no-op. You can remove the function call.\n",
      "  torchaudio.set_audio_backend(\"sox_io\")\n",
      "ESPnet is not installed, cannot use espnet_hubert upstream\n"
     ]
    },
    {
     "name": "stdout",
     "output_type": "stream",
     "text": [
      "Train dataset: 1017 examples, 31 classes\n",
      "  Clymene_Dolphin: 38\n",
      "  Bottlenose_Dolphin: 15\n",
      "  Spinner_Dolphin: 69\n",
      "  Beluga,_White_Whale: 30\n",
      "  Bearded_Seal: 22\n",
      "  Minke_Whale: 10\n",
      "  Humpback_Whale: 38\n",
      "  Southern_Right_Whale: 15\n",
      "  White-sided_Dolphin: 33\n",
      "  Narwhal: 30\n",
      "  White-beaked_Dolphin: 34\n",
      "  Northern_Right_Whale: 32\n",
      "  Frasers_Dolphin: 52\n",
      "  Grampus,_Rissos_Dolphin: 40\n",
      "  Harp_Seal: 28\n",
      "  Atlantic_Spotted_Dolphin: 35\n",
      "  Fin,_Finback_Whale: 30\n",
      "  Ross_Seal: 30\n",
      "  Rough-Toothed_Dolphin: 30\n",
      "  Killer_Whale: 21\n",
      "  Pantropical_Spotted_Dolphin: 40\n",
      "  Short-Finned_Pacific_Pilot_Whale: 40\n",
      "  Bowhead_Whale: 36\n",
      "  False_Killer_Whale: 35\n",
      "  Melon_Headed_Whale: 38\n",
      "  Long-Finned_Pilot_Whale: 42\n",
      "  Striped_Dolphin: 49\n",
      "  Leopard_Seal: 6\n",
      "  Walrus: 23\n",
      "  Sperm_Whale: 45\n",
      "  Common_Dolphin: 31\n",
      "Validation dataset: 339 examples, 31 classes\n",
      "  Clymene_Dolphin: 12\n",
      "  Bottlenose_Dolphin: 5\n",
      "  Spinner_Dolphin: 23\n",
      "  Beluga,_White_Whale: 10\n",
      "  Bearded_Seal: 7\n",
      "  Minke_Whale: 4\n",
      "  Humpback_Whale: 13\n",
      "  Southern_Right_Whale: 5\n",
      "  White-sided_Dolphin: 11\n",
      "  Narwhal: 10\n",
      "  White-beaked_Dolphin: 11\n",
      "  Northern_Right_Whale: 11\n",
      "  Frasers_Dolphin: 18\n",
      "  Grampus,_Rissos_Dolphin: 13\n",
      "  Harp_Seal: 9\n",
      "  Atlantic_Spotted_Dolphin: 12\n",
      "  Fin,_Finback_Whale: 10\n",
      "  Ross_Seal: 10\n",
      "  Rough-Toothed_Dolphin: 10\n",
      "  Killer_Whale: 7\n",
      "  Pantropical_Spotted_Dolphin: 13\n",
      "  Short-Finned_Pacific_Pilot_Whale: 13\n",
      "  Bowhead_Whale: 12\n",
      "  False_Killer_Whale: 12\n",
      "  Melon_Headed_Whale: 13\n",
      "  Long-Finned_Pilot_Whale: 14\n",
      "  Striped_Dolphin: 16\n",
      "  Leopard_Seal: 2\n",
      "  Walrus: 8\n",
      "  Sperm_Whale: 15\n",
      "  Common_Dolphin: 10\n",
      "Test dataset: 339 examples, 31 classes\n",
      "  Clymene_Dolphin: 13\n",
      "  Bottlenose_Dolphin: 4\n",
      "  Spinner_Dolphin: 22\n",
      "  Beluga,_White_Whale: 10\n",
      "  Bearded_Seal: 8\n",
      "  Minke_Whale: 3\n",
      "  Humpback_Whale: 13\n",
      "  Southern_Right_Whale: 5\n",
      "  White-sided_Dolphin: 11\n",
      "  Narwhal: 10\n",
      "  White-beaked_Dolphin: 12\n",
      "  Northern_Right_Whale: 11\n",
      "  Frasers_Dolphin: 17\n",
      "  Grampus,_Rissos_Dolphin: 14\n",
      "  Harp_Seal: 10\n",
      "  Atlantic_Spotted_Dolphin: 11\n",
      "  Fin,_Finback_Whale: 10\n",
      "  Ross_Seal: 10\n",
      "  Rough-Toothed_Dolphin: 10\n",
      "  Killer_Whale: 7\n",
      "  Pantropical_Spotted_Dolphin: 13\n",
      "  Short-Finned_Pacific_Pilot_Whale: 14\n",
      "  Bowhead_Whale: 12\n",
      "  False_Killer_Whale: 12\n",
      "  Melon_Headed_Whale: 12\n",
      "  Long-Finned_Pilot_Whale: 14\n",
      "  Striped_Dolphin: 16\n",
      "  Leopard_Seal: 2\n",
      "  Walrus: 7\n",
      "  Sperm_Whale: 15\n",
      "  Common_Dolphin: 11\n"
     ]
    }
   ],
   "execution_count": 2
  },
  {
   "metadata": {
    "ExecuteTime": {
     "end_time": "2025-07-09T10:33:15.730059Z",
     "start_time": "2025-07-09T10:33:15.725355Z"
    }
   },
   "cell_type": "code",
   "source": "print(os.getcwd())",
   "outputs": [
    {
     "name": "stdout",
     "output_type": "stream",
     "text": [
      "C:\\Users\\Ali\\OneDrive - Georgia Institute of Technology\\25-5 Summer\\CS 7643 - Deep Learning\\_Project\\mbari-mae\n"
     ]
    }
   ],
   "execution_count": 3
  },
  {
   "metadata": {},
   "cell_type": "markdown",
   "source": [
    "# **Linear Probing**\n",
    "Freezing the backbone and using a linear classifier head"
   ]
  },
  {
   "metadata": {},
   "cell_type": "markdown",
   "source": "## 2 Encoders - LP"
  },
  {
   "metadata": {
    "ExecuteTime": {
     "end_time": "2025-07-10T02:37:26.557064Z",
     "start_time": "2025-07-10T01:46:25.297368Z"
    }
   },
   "cell_type": "code",
   "outputs": [
    {
     "name": "stderr",
     "output_type": "stream",
     "text": [
      "Seed set to 42\n",
      "Using 16bit Automatic Mixed Precision (AMP)\n",
      "💡 Tip: For seamless cloud uploads and versioning, try installing [litmodels](https://pypi.org/project/litmodels/) to enable LitModelCheckpoint, which syncs automatically with the Lightning model registry.\n",
      "GPU available: True (cuda), used: True\n",
      "TPU available: False, using: 0 TPU cores\n",
      "HPU available: False, using: 0 HPUs\n",
      "LOCAL_RANK: 0 - CUDA_VISIBLE_DEVICES: [0]\n",
      "Loading `train_dataloader` to estimate number of stepping batches.\n",
      "\n",
      "   | Name            | Type                | Params | Mode \n",
      "-----------------------------------------------------------------\n",
      "0  | backbone        | UpstreamExpert      | 21.9 M | train\n",
      "1  | classifier      | Sequential          | 202 K  | train\n",
      "2  | criterion       | CrossEntropyLoss    | 0      | train\n",
      "3  | train_precision | MulticlassPrecision | 0      | train\n",
      "4  | train_recall    | MulticlassRecall    | 0      | train\n",
      "5  | train_f1        | MulticlassF1Score   | 0      | train\n",
      "6  | val_precision   | MulticlassPrecision | 0      | train\n",
      "7  | val_recall      | MulticlassRecall    | 0      | train\n",
      "8  | val_f1          | MulticlassF1Score   | 0      | train\n",
      "9  | test_precision  | MulticlassPrecision | 0      | train\n",
      "10 | test_recall     | MulticlassRecall    | 0      | train\n",
      "11 | test_f1         | MulticlassF1Score   | 0      | train\n",
      "-----------------------------------------------------------------\n",
      "202 K     Trainable params\n",
      "21.9 M    Non-trainable params\n",
      "22.1 M    Total params\n",
      "88.249    Total estimated model params size (MB)\n",
      "74        Modules in train mode\n",
      "0         Modules in eval mode\n",
      "`Trainer.fit` stopped: `max_epochs=100` reached.\n",
      "LOCAL_RANK: 0 - CUDA_VISIBLE_DEVICES: [0]\n"
     ]
    },
    {
     "name": "stdout",
     "output_type": "stream",
     "text": [
      "────────────────────────────────────────────────────────────────────────────────────────────────────────────────────────\r\n",
      "       Test metric             DataLoader 0\r\n",
      "────────────────────────────────────────────────────────────────────────────────────────────────────────────────────────\r\n",
      "        test_acc            0.5663716793060303\r\n",
      "         test_f1            0.5063915252685547\r\n",
      "        test_loss           1.4470789432525635\r\n",
      "     test_precision         0.5599803328514099\r\n",
      "       test_recall          0.4803343415260315\r\n",
      "────────────────────────────────────────────────────────────────────────────────────────────────────────────────────────\n",
      "Artifacts saved to notebook\\downstream\\model\\mae-ast_imbalance\\20250710_123725/\n",
      "Completed mae-ast (Frozen), artifacts in notebook\\downstream\\model\\mae-ast_imbalance\\20250710_123725\n"
     ]
    }
   ],
   "execution_count": 15,
   "source": [
    "# model configurations\n",
    "model_configs_2en1de_lp = [\n",
    "    {\"num_classes\": num_classes,\n",
    "     \"weight_decay\":  0.05,\n",
    "     \"backbone_lr\": 1e-4,\n",
    "     \"head_lr\": 1e-4,\n",
    "     \"backbone\": \"mae-ast\",\n",
    "     \"finetune\": False,\n",
    "     \"class_weights\": class_weights,\n",
    "     \"max_epochs\": 100,\n",
    "     \"ckpt_path\": \"notebook/downstream/load_model/2en1de.pt\"},\n",
    "]\n",
    "set_seed(42)\n",
    "train_finetune(model_configs_2en1de_lp, early_stopping=False)"
   ]
  },
  {
   "metadata": {},
   "cell_type": "markdown",
   "source": "## 4 Encoders - LP"
  },
  {
   "metadata": {
    "ExecuteTime": {
     "end_time": "2025-07-10T03:38:54.763101Z",
     "start_time": "2025-07-10T02:37:26.616127Z"
    }
   },
   "cell_type": "code",
   "outputs": [
    {
     "name": "stderr",
     "output_type": "stream",
     "text": [
      "Seed set to 42\n",
      "Using 16bit Automatic Mixed Precision (AMP)\n",
      "💡 Tip: For seamless cloud uploads and versioning, try installing [litmodels](https://pypi.org/project/litmodels/) to enable LitModelCheckpoint, which syncs automatically with the Lightning model registry.\n",
      "GPU available: True (cuda), used: True\n",
      "TPU available: False, using: 0 TPU cores\n",
      "HPU available: False, using: 0 HPUs\n",
      "LOCAL_RANK: 0 - CUDA_VISIBLE_DEVICES: [0]\n",
      "Loading `train_dataloader` to estimate number of stepping batches.\n",
      "\n",
      "   | Name            | Type                | Params | Mode \n",
      "-----------------------------------------------------------------\n",
      "0  | backbone        | UpstreamExpert      | 36.0 M | train\n",
      "1  | classifier      | Sequential          | 202 K  | train\n",
      "2  | criterion       | CrossEntropyLoss    | 0      | train\n",
      "3  | train_precision | MulticlassPrecision | 0      | train\n",
      "4  | train_recall    | MulticlassRecall    | 0      | train\n",
      "5  | train_f1        | MulticlassF1Score   | 0      | train\n",
      "6  | val_precision   | MulticlassPrecision | 0      | train\n",
      "7  | val_recall      | MulticlassRecall    | 0      | train\n",
      "8  | val_f1          | MulticlassF1Score   | 0      | train\n",
      "9  | test_precision  | MulticlassPrecision | 0      | train\n",
      "10 | test_recall     | MulticlassRecall    | 0      | train\n",
      "11 | test_f1         | MulticlassF1Score   | 0      | train\n",
      "-----------------------------------------------------------------\n",
      "202 K     Trainable params\n",
      "36.0 M    Non-trainable params\n",
      "36.2 M    Total params\n",
      "144.952   Total estimated model params size (MB)\n",
      "102       Modules in train mode\n",
      "0         Modules in eval mode\n",
      "`Trainer.fit` stopped: `max_epochs=100` reached.\n",
      "LOCAL_RANK: 0 - CUDA_VISIBLE_DEVICES: [0]\n"
     ]
    },
    {
     "name": "stdout",
     "output_type": "stream",
     "text": [
      "────────────────────────────────────────────────────────────────────────────────────────────────────────────────────────\r\n",
      "       Test metric             DataLoader 0\r\n",
      "────────────────────────────────────────────────────────────────────────────────────────────────────────────────────────\r\n",
      "        test_acc            0.5958701968193054\r\n",
      "         test_f1            0.5358900427818298\r\n",
      "        test_loss           1.4140719175338745\r\n",
      "     test_precision         0.5899705290794373\r\n",
      "       test_recall           0.508849561214447\r\n",
      "────────────────────────────────────────────────────────────────────────────────────────────────────────────────────────\n",
      "Artifacts saved to notebook\\downstream\\model\\mae-ast_imbalance\\20250710_133854/\n",
      "Completed mae-ast (Frozen), artifacts in notebook\\downstream\\model\\mae-ast_imbalance\\20250710_133854\n"
     ]
    }
   ],
   "execution_count": 16,
   "source": [
    "# model configurations\n",
    "model_configs_4en1de_lp = [\n",
    "    {\"num_classes\": num_classes,\n",
    "     \"weight_decay\":  0.05,\n",
    "     \"backbone_lr\": 1e-4,\n",
    "     \"head_lr\": 1e-4,\n",
    "     \"backbone\": \"mae-ast\",\n",
    "     \"finetune\": False,\n",
    "     \"class_weights\": class_weights,\n",
    "     \"max_epochs\": 100,\n",
    "     \"ckpt_path\": \"notebook/downstream/load_model/4en1de.pt\"},\n",
    "]\n",
    "set_seed(42)\n",
    "train_finetune(model_configs_4en1de_lp, early_stopping=False)"
   ]
  },
  {
   "metadata": {},
   "cell_type": "markdown",
   "source": "## 6 Encoders - LP"
  },
  {
   "metadata": {
    "ExecuteTime": {
     "end_time": "2025-07-10T04:50:59.061256Z",
     "start_time": "2025-07-10T03:38:54.796498Z"
    }
   },
   "cell_type": "code",
   "outputs": [
    {
     "name": "stderr",
     "output_type": "stream",
     "text": [
      "Seed set to 42\n",
      "Using 16bit Automatic Mixed Precision (AMP)\n",
      "💡 Tip: For seamless cloud uploads and versioning, try installing [litmodels](https://pypi.org/project/litmodels/) to enable LitModelCheckpoint, which syncs automatically with the Lightning model registry.\n",
      "GPU available: True (cuda), used: True\n",
      "TPU available: False, using: 0 TPU cores\n",
      "HPU available: False, using: 0 HPUs\n",
      "LOCAL_RANK: 0 - CUDA_VISIBLE_DEVICES: [0]\n",
      "Loading `train_dataloader` to estimate number of stepping batches.\n",
      "\n",
      "   | Name            | Type                | Params | Mode \n",
      "-----------------------------------------------------------------\n",
      "0  | backbone        | UpstreamExpert      | 50.2 M | train\n",
      "1  | classifier      | Sequential          | 202 K  | train\n",
      "2  | criterion       | CrossEntropyLoss    | 0      | train\n",
      "3  | train_precision | MulticlassPrecision | 0      | train\n",
      "4  | train_recall    | MulticlassRecall    | 0      | train\n",
      "5  | train_f1        | MulticlassF1Score   | 0      | train\n",
      "6  | val_precision   | MulticlassPrecision | 0      | train\n",
      "7  | val_recall      | MulticlassRecall    | 0      | train\n",
      "8  | val_f1          | MulticlassF1Score   | 0      | train\n",
      "9  | test_precision  | MulticlassPrecision | 0      | train\n",
      "10 | test_recall     | MulticlassRecall    | 0      | train\n",
      "11 | test_f1         | MulticlassF1Score   | 0      | train\n",
      "-----------------------------------------------------------------\n",
      "202 K     Trainable params\n",
      "50.2 M    Non-trainable params\n",
      "50.4 M    Total params\n",
      "201.655   Total estimated model params size (MB)\n",
      "130       Modules in train mode\n",
      "0         Modules in eval mode\n",
      "`Trainer.fit` stopped: `max_epochs=100` reached.\n",
      "LOCAL_RANK: 0 - CUDA_VISIBLE_DEVICES: [0]\n"
     ]
    },
    {
     "name": "stdout",
     "output_type": "stream",
     "text": [
      "────────────────────────────────────────────────────────────────────────────────────────────────────────────────────────\r\n",
      "       Test metric             DataLoader 0\r\n",
      "────────────────────────────────────────────────────────────────────────────────────────────────────────────────────────\r\n",
      "        test_acc            0.5781710743904114\r\n",
      "         test_f1            0.5201573967933655\r\n",
      "        test_loss            1.462063193321228\r\n",
      "     test_precision         0.5722714066505432\r\n",
      "       test_recall          0.49410030245780945\r\n",
      "────────────────────────────────────────────────────────────────────────────────────────────────────────────────────────\n",
      "Artifacts saved to notebook\\downstream\\model\\mae-ast_imbalance\\20250710_145058/\n",
      "Completed mae-ast (Frozen), artifacts in notebook\\downstream\\model\\mae-ast_imbalance\\20250710_145058\n"
     ]
    }
   ],
   "execution_count": 17,
   "source": [
    "# model configurations\n",
    "model_configs_6en1de_lp = [\n",
    "    {\"num_classes\": num_classes,\n",
    "     \"weight_decay\":  0.05,\n",
    "     \"backbone_lr\": 1e-4,\n",
    "     \"head_lr\": 1e-4,\n",
    "     \"backbone\": \"mae-ast\",\n",
    "     \"finetune\": False,\n",
    "     \"class_weights\": class_weights,\n",
    "     \"max_epochs\": 100,\n",
    "     \"ckpt_path\": \"notebook/downstream/load_model/6en1de.pt\"},\n",
    "]\n",
    "set_seed(42)\n",
    "train_finetune(model_configs_6en1de_lp, early_stopping=False)"
   ]
  },
  {
   "metadata": {},
   "cell_type": "markdown",
   "source": "## Wav2Vec - LP"
  },
  {
   "metadata": {
    "ExecuteTime": {
     "end_time": "2025-07-10T05:22:50.015229Z",
     "start_time": "2025-07-10T04:50:59.107217Z"
    }
   },
   "cell_type": "code",
   "outputs": [
    {
     "name": "stderr",
     "output_type": "stream",
     "text": [
      "Seed set to 42\n",
      "Using 16bit Automatic Mixed Precision (AMP)\n",
      "💡 Tip: For seamless cloud uploads and versioning, try installing [litmodels](https://pypi.org/project/litmodels/) to enable LitModelCheckpoint, which syncs automatically with the Lightning model registry.\n",
      "GPU available: True (cuda), used: True\n",
      "TPU available: False, using: 0 TPU cores\n",
      "HPU available: False, using: 0 HPUs\n",
      "LOCAL_RANK: 0 - CUDA_VISIBLE_DEVICES: [0]\n",
      "Loading `train_dataloader` to estimate number of stepping batches.\n",
      "\n",
      "   | Name            | Type                | Params | Mode \n",
      "-----------------------------------------------------------------\n",
      "0  | backbone        | Wav2Vec2Model       | 94.4 M | eval \n",
      "1  | classifier      | Sequential          | 25.4 K | train\n",
      "2  | criterion       | CrossEntropyLoss    | 0      | train\n",
      "3  | train_precision | MulticlassPrecision | 0      | train\n",
      "4  | train_recall    | MulticlassRecall    | 0      | train\n",
      "5  | train_f1        | MulticlassF1Score   | 0      | train\n",
      "6  | val_precision   | MulticlassPrecision | 0      | train\n",
      "7  | val_recall      | MulticlassRecall    | 0      | train\n",
      "8  | val_f1          | MulticlassF1Score   | 0      | train\n",
      "9  | test_precision  | MulticlassPrecision | 0      | train\n",
      "10 | test_recall     | MulticlassRecall    | 0      | train\n",
      "11 | test_f1         | MulticlassF1Score   | 0      | train\n",
      "-----------------------------------------------------------------\n",
      "25.4 K    Trainable params\n",
      "94.4 M    Non-trainable params\n",
      "94.4 M    Total params\n",
      "377.588   Total estimated model params size (MB)\n",
      "14        Modules in train mode\n",
      "220       Modules in eval mode\n",
      "`Trainer.fit` stopped: `max_epochs=100` reached.\n",
      "LOCAL_RANK: 0 - CUDA_VISIBLE_DEVICES: [0]\n"
     ]
    },
    {
     "name": "stdout",
     "output_type": "stream",
     "text": [
      "────────────────────────────────────────────────────────────────────────────────────────────────────────────────────────\r\n",
      "       Test metric             DataLoader 0\r\n",
      "────────────────────────────────────────────────────────────────────────────────────────────────────────────────────────\r\n",
      "        test_acc             0.501474916934967\r\n",
      "         test_f1            0.4306785464286804\r\n",
      "        test_loss           1.9002667665481567\r\n",
      "     test_precision         0.49754175543785095\r\n",
      "       test_recall           0.397246778011322\r\n",
      "────────────────────────────────────────────────────────────────────────────────────────────────────────────────────────\n",
      "Artifacts saved to notebook\\downstream\\model\\facebook_wav2vec2-base_imbalance\\20250710_152249/\n",
      "Completed facebook/wav2vec2-base (Frozen), artifacts in notebook\\downstream\\model\\facebook_wav2vec2-base_imbalance\\20250710_152249\n"
     ]
    }
   ],
   "execution_count": 18,
   "source": [
    "# model configurations\n",
    "model_configs_w2v_lp = [\n",
    "    {\"num_classes\": num_classes,\n",
    "     \"weight_decay\":  0.05,\n",
    "     \"backbone_lr\": 1e-4,\n",
    "     \"head_lr\": 1e-4,\n",
    "     \"backbone\": \"facebook/wav2vec2-base\",\n",
    "     \"finetune\": False,\n",
    "     \"class_weights\": class_weights,\n",
    "     \"max_epochs\": 100,\n",
    "     \"ckpt_path\": \"notebook/downstream/load_model/6en1de.pt\"},\n",
    "]\n",
    "set_seed(42)\n",
    "train_finetune(model_configs_w2v_lp, early_stopping=False)"
   ]
  },
  {
   "metadata": {
    "ExecuteTime": {
     "end_time": "2025-07-10T05:22:50.058290Z",
     "start_time": "2025-07-10T05:22:50.054369Z"
    }
   },
   "cell_type": "code",
   "outputs": [],
   "source": "",
   "execution_count": null
  },
  {
   "metadata": {},
   "cell_type": "markdown",
   "source": "## ImageNet - LP"
  },
  {
   "metadata": {
    "ExecuteTime": {
     "end_time": "2025-07-10T06:06:44.923261Z",
     "start_time": "2025-07-10T05:22:50.090207Z"
    }
   },
   "cell_type": "code",
   "outputs": [
    {
     "name": "stderr",
     "output_type": "stream",
     "text": [
      "Seed set to 42\n",
      "Some weights of the model checkpoint at google/vit-base-patch16-224-in21k were not used when initializing ViTModel: ['pooler.dense.bias', 'pooler.dense.weight']\n",
      "- This IS expected if you are initializing ViTModel from the checkpoint of a model trained on another task or with another architecture (e.g. initializing a BertForSequenceClassification model from a BertForPreTraining model).\n",
      "- This IS NOT expected if you are initializing ViTModel from the checkpoint of a model that you expect to be exactly identical (initializing a BertForSequenceClassification model from a BertForSequenceClassification model).\n",
      "Using 16bit Automatic Mixed Precision (AMP)\n",
      "💡 Tip: For seamless cloud uploads and versioning, try installing [litmodels](https://pypi.org/project/litmodels/) to enable LitModelCheckpoint, which syncs automatically with the Lightning model registry.\n",
      "GPU available: True (cuda), used: True\n",
      "TPU available: False, using: 0 TPU cores\n",
      "HPU available: False, using: 0 HPUs\n",
      "LOCAL_RANK: 0 - CUDA_VISIBLE_DEVICES: [0]\n",
      "Loading `train_dataloader` to estimate number of stepping batches.\n",
      "\n",
      "   | Name            | Type                | Params | Mode \n",
      "-----------------------------------------------------------------\n",
      "0  | backbone        | ViTModel            | 85.8 M | eval \n",
      "1  | classifier      | Sequential          | 25.4 K | train\n",
      "2  | criterion       | CrossEntropyLoss    | 0      | train\n",
      "3  | train_precision | MulticlassPrecision | 0      | train\n",
      "4  | train_recall    | MulticlassRecall    | 0      | train\n",
      "5  | train_f1        | MulticlassF1Score   | 0      | train\n",
      "6  | val_precision   | MulticlassPrecision | 0      | train\n",
      "7  | val_recall      | MulticlassRecall    | 0      | train\n",
      "8  | val_f1          | MulticlassF1Score   | 0      | train\n",
      "9  | test_precision  | MulticlassPrecision | 0      | train\n",
      "10 | test_recall     | MulticlassRecall    | 0      | train\n",
      "11 | test_f1         | MulticlassF1Score   | 0      | train\n",
      "-----------------------------------------------------------------\n",
      "25.4 K    Trainable params\n",
      "85.8 M    Non-trainable params\n",
      "85.8 M    Total params\n",
      "343.296   Total estimated model params size (MB)\n",
      "14        Modules in train mode\n",
      "212       Modules in eval mode\n",
      "`Trainer.fit` stopped: `max_epochs=100` reached.\n",
      "LOCAL_RANK: 0 - CUDA_VISIBLE_DEVICES: [0]\n"
     ]
    },
    {
     "name": "stdout",
     "output_type": "stream",
     "text": [
      "────────────────────────────────────────────────────────────────────────────────────────────────────────────────────────\r\n",
      "       Test metric             DataLoader 0\r\n",
      "────────────────────────────────────────────────────────────────────────────────────────────────────────────────────────\r\n",
      "        test_acc            0.5752212405204773\r\n",
      "         test_f1             0.511307954788208\r\n",
      "        test_loss           1.6076768636703491\r\n",
      "     test_precision         0.5683382153511047\r\n",
      "       test_recall          0.4827924966812134\r\n",
      "────────────────────────────────────────────────────────────────────────────────────────────────────────────────────────\n",
      "Artifacts saved to notebook\\downstream\\model\\vit-imagenet_imbalance\\20250710_160644/\n",
      "Completed vit-imagenet (Frozen), artifacts in notebook\\downstream\\model\\vit-imagenet_imbalance\\20250710_160644\n"
     ]
    }
   ],
   "execution_count": 19,
   "source": [
    "# model configurations\n",
    "model_configs_imagenet_lp = [\n",
    "    {\"num_classes\": num_classes,\n",
    "     \"weight_decay\":  0.05,\n",
    "     \"backbone_lr\":   1e-4,\n",
    "     \"head_lr\":       1e-4,\n",
    "     \"backbone\": \"vit-imagenet\",\n",
    "     \"n_mels\": 128,\n",
    "     \"target_size\": 224,\n",
    "     \"finetune\": False,\n",
    "     \"class_weights\": class_weights,\n",
    "     \"max_epochs\": 100,\n",
    "     \"ckpt_path\": \"notebook/downstream/load_model/6en1de.pt\"},\n",
    "]\n",
    "set_seed(42)\n",
    "train_finetune(model_configs_imagenet_lp, early_stopping=False)"
   ]
  }
 ],
 "metadata": {
  "accelerator": "GPU",
  "colab": {
   "gpuType": "T4",
   "private_outputs": true,
   "provenance": []
  },
  "kernelspec": {
   "display_name": "Python 3 (ipykernel)",
   "language": "python",
   "name": "python3"
  },
  "language_info": {
   "codemirror_mode": {
    "name": "ipython",
    "version": 3
   },
   "file_extension": ".py",
   "mimetype": "text/x-python",
   "name": "python",
   "nbconvert_exporter": "python",
   "pygments_lexer": "ipython3",
   "version": "3.9.20"
  }
 },
 "nbformat": 4,
 "nbformat_minor": 4
}
