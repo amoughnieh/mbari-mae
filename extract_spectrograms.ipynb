{
 "cells": [
  {
   "cell_type": "code",
   "id": "2263c75440c53017",
   "metadata": {
    "ExecuteTime": {
     "end_time": "2025-06-11T02:29:00.691772Z",
     "start_time": "2025-06-11T02:29:00.385879Z"
    }
   },
   "source": [
    "import os\n",
    "import librosa\n",
    "import numpy as np\n",
    "import soundfile as sf\n",
    "from PIL import Image"
   ],
   "outputs": [],
   "execution_count": 1
  },
  {
   "metadata": {
    "ExecuteTime": {
     "end_time": "2025-06-11T02:29:00.733403Z",
     "start_time": "2025-06-11T02:29:00.691772Z"
    }
   },
   "cell_type": "code",
   "source": [
    "def scale_to_uint8(array):\n",
    "    array = array.astype(float)\n",
    "    if np.max(array) == np.min(array):\n",
    "        return np.zeros(array.shape, dtype=np.uint8)\n",
    "    scaled_array = (array - np.min(array)) / (np.max(array) - np.min(array))\n",
    "    return (scaled_array * 255).astype(np.uint8)\n",
    "\n",
    "def spect_create_224(file_path, output_folder):\n",
    "    \"\"\"\n",
    "    Creates 512 square spectrograms, resizes them to an intermediate\n",
    "    dimension, then crops the edges to reach the 224 final dimension.\n",
    "    \"\"\"\n",
    "\n",
    "    # Parameters for Image Processing Pipeline\n",
    "    HI_RES_DIM = 512\n",
    "    INTERMEDIATE_DIM = 228\n",
    "    CROP_PIXELS = 2 # pixels to crop from each side\n",
    "    FINAL_DIM = INTERMEDIATE_DIM - (CROP_PIXELS * 2)\n",
    "\n",
    "    # Parameters for Audio Processing\n",
    "    HOP_LENGTH = 512\n",
    "    N_FFT = 2048\n",
    "    N_MELS = HI_RES_DIM\n",
    "    CHUNK_DURATION_SEC = (HI_RES_DIM * HOP_LENGTH) / 16000.0\n",
    "    OVERLAP_SEC = CHUNK_DURATION_SEC / 4\n",
    "    HOP_SEC = CHUNK_DURATION_SEC - OVERLAP_SEC\n",
    "    TOP_DB = None\n",
    "\n",
    "\n",
    "    print(\"Starting spectrogram generation...\")\n",
    "    print(f\" - Pipeline: {HI_RES_DIM}x{HI_RES_DIM} -> resize to {INTERMEDIATE_DIM}x{INTERMEDIATE_DIM} -> crop to {FINAL_DIM}x{FINAL_DIM}\")\n",
    "\n",
    "    os.makedirs(output_folder, exist_ok=True)\n",
    "\n",
    "    try:\n",
    "        with sf.SoundFile(file_path, 'r') as audio_file:\n",
    "            sr = audio_file.samplerate\n",
    "            if sr != 16000:\n",
    "                print(f\"Warning: Sample rate is {sr}Hz, but calculations assume 16000Hz.\")\n",
    "\n",
    "            chunk_size_frames = int(CHUNK_DURATION_SEC * sr)\n",
    "            hop_size_frames = int(HOP_SEC * sr)\n",
    "            total_frames = audio_file.frames\n",
    "\n",
    "            total_chunks = int(np.ceil((total_frames - chunk_size_frames) / hop_size_frames)) + 1\n",
    "\n",
    "            print(f\"Audio detected at {sr} Hz. Total chunks to process: {total_chunks}\")\n",
    "\n",
    "            chunk_num = 0\n",
    "            while True:\n",
    "                start_frame = chunk_num * hop_size_frames\n",
    "                if start_frame + chunk_size_frames > total_frames:\n",
    "                    break\n",
    "\n",
    "                audio_file.seek(start_frame)\n",
    "                y_chunk = audio_file.read(chunk_size_frames)\n",
    "\n",
    "                if len(y_chunk) == 0:\n",
    "                    break\n",
    "\n",
    "                if (chunk_num + 1) % 20 == 0 or chunk_num == 0:\n",
    "                    print(f\"Processing chunk {chunk_num + 1}/{total_chunks}...\")\n",
    "\n",
    "                peak_amplitude = np.max(np.abs(y_chunk))\n",
    "                y_normalized = y_chunk / peak_amplitude if peak_amplitude > 0 else y_chunk\n",
    "\n",
    "                S = librosa.feature.melspectrogram(\n",
    "                    y=y_normalized, sr=sr, n_fft=N_FFT,\n",
    "                    hop_length=HOP_LENGTH, n_mels=N_MELS\n",
    "                )\n",
    "\n",
    "                S_dB = librosa.power_to_db(S, ref=np.max, top_db=TOP_DB)\n",
    "                img_array = scale_to_uint8(S_dB)\n",
    "                img_array = 255 - img_array # invert colors\n",
    "                img = Image.fromarray(img_array, 'L')\n",
    "\n",
    "                # Resize the high-resolution image down to the intermediate dimension\n",
    "                img_intermediate = img.resize((INTERMEDIATE_DIM, INTERMEDIATE_DIM), Image.Resampling.LANCZOS)\n",
    "\n",
    "                # Crop the specified number of pixels from each side\n",
    "                crop_box = (\n",
    "                    CROP_PIXELS,\n",
    "                    CROP_PIXELS,\n",
    "                    INTERMEDIATE_DIM - CROP_PIXELS,\n",
    "                    INTERMEDIATE_DIM - CROP_PIXELS\n",
    "                )\n",
    "                final_img = img_intermediate.crop(crop_box)\n",
    "\n",
    "                output_filename = os.path.join(output_folder, f\"spectrogram_{chunk_num:04d}.png\")\n",
    "                final_img.save(output_filename)\n",
    "\n",
    "                chunk_num += 1\n",
    "\n",
    "                if chunk_num == 100:\n",
    "                    break\n",
    "\n",
    "        print(f\"\\nProcessing complete. {chunk_num} spectrograms saved to '{output_folder}'.\")\n",
    "\n",
    "    except Exception as e:\n",
    "        print(f\"An error occurred: {e}\")\n",
    "\n"
   ],
   "id": "initial_id",
   "outputs": [],
   "execution_count": 2
  },
  {
   "metadata": {
    "ExecuteTime": {
     "end_time": "2025-06-11T02:29:06.197506Z",
     "start_time": "2025-06-11T02:29:00.807704Z"
    }
   },
   "cell_type": "code",
   "source": [
    "if __name__ == '__main__':\n",
    "    AUDIO_FILE = 'MARS-20230921T000000Z-16kHz.flac'\n",
    "    OUTPUT_SPECTROGRAM_FOLDER = 'spect_test_224'\n",
    "    spect_create_224(AUDIO_FILE, OUTPUT_SPECTROGRAM_FOLDER)"
   ],
   "id": "a3c4a486183696e4",
   "outputs": [
    {
     "name": "stdout",
     "output_type": "stream",
     "text": [
      "Starting spectrogram generation...\n",
      " - Pipeline: 512x512 -> resize to 228x228 -> crop to 224x224\n",
      "Audio detected at 16000 Hz. Total chunks to process: 7031\n",
      "Processing chunk 1/7031...\n",
      "Processing chunk 20/7031...\n",
      "Processing chunk 40/7031...\n",
      "Processing chunk 60/7031...\n",
      "Processing chunk 80/7031...\n",
      "Processing chunk 100/7031...\n",
      "\n",
      "Processing complete. 100 spectrograms saved to 'spect_test_224'.\n"
     ]
    }
   ],
   "execution_count": 3
  },
  {
   "metadata": {},
   "cell_type": "markdown",
   "source": "# 512 script",
   "id": "85df4555a913a10"
  },
  {
   "metadata": {
    "ExecuteTime": {
     "end_time": "2025-06-11T02:29:06.256287Z",
     "start_time": "2025-06-11T02:29:06.240660Z"
    }
   },
   "cell_type": "code",
   "source": [
    "def spect_create_512(file_path, output_folder):\n",
    "    \"\"\"\n",
    "    Creates 516 square spectrograms then crops the edges to reach the 512 final dimension.\n",
    "    \"\"\"\n",
    "\n",
    "    # Parameters for Image Processing Pipeline\n",
    "    HI_RES_DIM = 516\n",
    "    CROP_PIXELS = 2 # pixels to crop from each side\n",
    "    FINAL_DIM = HI_RES_DIM - (CROP_PIXELS * 2)\n",
    "\n",
    "    # Parameters for Audio Processing\n",
    "    HOP_LENGTH = 516\n",
    "    N_FFT = 2048\n",
    "    N_MELS = HI_RES_DIM\n",
    "    CHUNK_DURATION_SEC = (HI_RES_DIM * HOP_LENGTH) / 16000.0\n",
    "    OVERLAP_SEC = CHUNK_DURATION_SEC / 4\n",
    "    HOP_SEC = CHUNK_DURATION_SEC - OVERLAP_SEC\n",
    "    TOP_DB = None\n",
    "\n",
    "    print(\"Starting spectrogram generation...\")\n",
    "    print(f\" - Pipeline: {HI_RES_DIM}x{HI_RES_DIM} -> crop to {FINAL_DIM}x{FINAL_DIM}\")\n",
    "\n",
    "    os.makedirs(output_folder, exist_ok=True)\n",
    "\n",
    "    try:\n",
    "        with sf.SoundFile(file_path, 'r') as audio_file:\n",
    "            sr = audio_file.samplerate\n",
    "            if sr != 16000:\n",
    "                print(f\"Warning: Sample rate is {sr}Hz, but calculations assume 16000Hz.\")\n",
    "\n",
    "            chunk_size_frames = int(CHUNK_DURATION_SEC * sr)\n",
    "            hop_size_frames = int(HOP_SEC * sr)\n",
    "            total_frames = audio_file.frames\n",
    "\n",
    "            total_chunks = int(np.ceil((total_frames - chunk_size_frames) / hop_size_frames)) + 1\n",
    "\n",
    "            print(f\"Audio detected at {sr} Hz. Total chunks to process: {total_chunks}\")\n",
    "\n",
    "            chunk_num = 0\n",
    "            while True:\n",
    "                start_frame = chunk_num * hop_size_frames\n",
    "                if start_frame + chunk_size_frames > total_frames:\n",
    "                    break\n",
    "\n",
    "                audio_file.seek(start_frame)\n",
    "                y_chunk = audio_file.read(chunk_size_frames)\n",
    "\n",
    "                if len(y_chunk) == 0:\n",
    "                    break\n",
    "\n",
    "                if (chunk_num + 1) % 20 == 0 or chunk_num == 0:\n",
    "                    print(f\"Processing chunk {chunk_num + 1}/{total_chunks}...\")\n",
    "\n",
    "                peak_amplitude = np.max(np.abs(y_chunk))\n",
    "                y_normalized = y_chunk / peak_amplitude if peak_amplitude > 0 else y_chunk\n",
    "\n",
    "                S = librosa.feature.melspectrogram(\n",
    "                    y=y_normalized, sr=sr, n_fft=N_FFT,\n",
    "                    hop_length=HOP_LENGTH, n_mels=N_MELS\n",
    "                )\n",
    "\n",
    "                S_dB = librosa.power_to_db(S, ref=np.max, top_db=TOP_DB)\n",
    "                img_array = scale_to_uint8(S_dB)\n",
    "                img_array = 255 - img_array\n",
    "                img = Image.fromarray(img_array, 'L')\n",
    "\n",
    "                # Crop the specified number of pixels from each side\n",
    "                crop_box = (\n",
    "                    CROP_PIXELS,\n",
    "                    CROP_PIXELS,\n",
    "                    HI_RES_DIM - CROP_PIXELS,\n",
    "                    HI_RES_DIM - CROP_PIXELS\n",
    "                )\n",
    "                final_img = img.crop(crop_box)\n",
    "\n",
    "                output_filename = os.path.join(output_folder, f\"spectrogram_{chunk_num:04d}.png\")\n",
    "                final_img.save(output_filename)\n",
    "\n",
    "                chunk_num += 1\n",
    "\n",
    "                if chunk_num == 100:\n",
    "                    break\n",
    "\n",
    "        print(f\"\\nProcessing complete. {chunk_num} spectrograms saved to '{output_folder}'.\")\n",
    "\n",
    "    except Exception as e:\n",
    "        print(f\"An error occurred: {e}\")\n",
    "\n"
   ],
   "id": "8603eeb39eb1e7f8",
   "outputs": [],
   "execution_count": 4
  },
  {
   "metadata": {
    "ExecuteTime": {
     "end_time": "2025-06-11T02:29:10.467299Z",
     "start_time": "2025-06-11T02:29:06.299310Z"
    }
   },
   "cell_type": "code",
   "source": [
    "if __name__ == '__main__':\n",
    "    AUDIO_FILE = 'MARS-20230921T000000Z-16kHz.flac'\n",
    "    OUTPUT_SPECTROGRAM_FOLDER = 'spect_test_512'\n",
    "    spect_create_512(AUDIO_FILE, OUTPUT_SPECTROGRAM_FOLDER)"
   ],
   "id": "1205e9abe099622d",
   "outputs": [
    {
     "name": "stdout",
     "output_type": "stream",
     "text": [
      "Starting spectrogram generation...\n",
      " - Pipeline: 516x516 -> crop to 512x512\n",
      "Audio detected at 16000 Hz. Total chunks to process: 6923\n",
      "Processing chunk 1/6923...\n",
      "Processing chunk 20/6923...\n",
      "Processing chunk 40/6923...\n",
      "Processing chunk 60/6923...\n",
      "Processing chunk 80/6923...\n",
      "Processing chunk 100/6923...\n",
      "\n",
      "Processing complete. 100 spectrograms saved to 'spect_test_512'.\n"
     ]
    }
   ],
   "execution_count": 5
  },
  {
   "metadata": {
    "ExecuteTime": {
     "end_time": "2025-06-11T02:29:10.508215Z",
     "start_time": "2025-06-11T02:29:10.490030Z"
    }
   },
   "cell_type": "code",
   "source": "",
   "id": "957c80ce394bc6fe",
   "outputs": [],
   "execution_count": null
  }
 ],
 "metadata": {
  "kernelspec": {
   "display_name": "Python 3",
   "language": "python",
   "name": "python3"
  },
  "language_info": {
   "codemirror_mode": {
    "name": "ipython",
    "version": 2
   },
   "file_extension": ".py",
   "mimetype": "text/x-python",
   "name": "python",
   "nbconvert_exporter": "python",
   "pygments_lexer": "ipython2",
   "version": "2.7.6"
  }
 },
 "nbformat": 4,
 "nbformat_minor": 5
}
